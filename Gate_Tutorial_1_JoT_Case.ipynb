{
 "cells": [
  {
   "cell_type": "markdown",
   "id": "3998118d-394a-43b4-adee-c0bcbdb862cf",
   "metadata": {},
   "source": [
    "https://aliduabubakari.github.io/semt_py/"
   ]
  },
  {
   "cell_type": "code",
   "execution_count": 1,
   "id": "adfbcc36-5283-4e20-b53c-873f059206d8",
   "metadata": {},
   "outputs": [
    {
     "name": "stdout",
     "output_type": "stream",
     "text": [
      "/Users/abubakarialidu/myenv/bin/python\n"
     ]
    }
   ],
   "source": [
    "import sys\n",
    "print(sys.executable)"
   ]
  },
  {
   "cell_type": "code",
   "execution_count": 2,
   "id": "5f309c2b-6336-46e9-9836-3a569e5b6a71",
   "metadata": {},
   "outputs": [
    {
     "name": "stdout",
     "output_type": "stream",
     "text": [
      "Collecting git+https://github.com/unimib-datAI/Semtui-python.git\n",
      "  Cloning https://github.com/unimib-datAI/Semtui-python.git to /private/var/folders/tj/464jl5ls75l9zfnpxmsx2lrh0000gn/T/pip-req-build-b59xk7bm\n",
      "  Running command git clone --filter=blob:none --quiet https://github.com/unimib-datAI/Semtui-python.git /private/var/folders/tj/464jl5ls75l9zfnpxmsx2lrh0000gn/T/pip-req-build-b59xk7bm\n",
      "  Resolved https://github.com/unimib-datAI/Semtui-python.git to commit af04dc35a225d4dc0cb657d4e735bdf5999a769d\n",
      "  Preparing metadata (setup.py) ... \u001b[?25ldone\n",
      "\u001b[?25hBuilding wheels for collected packages: SemT-py\n",
      "  Building wheel for SemT-py (setup.py) ... \u001b[?25ldone\n",
      "\u001b[?25h  Created wheel for SemT-py: filename=SemT_py-0.1-py3-none-any.whl size=31557 sha256=231808667588efedaac1532a33b83c720b6de5c02db21df0e7664a5e797bea8f\n",
      "  Stored in directory: /private/var/folders/tj/464jl5ls75l9zfnpxmsx2lrh0000gn/T/pip-ephem-wheel-cache-0qvrsx79/wheels/10/38/30/bbae85fc19adafe32855f67e9acd24696a977575095e3af37f\n",
      "Successfully built SemT-py\n",
      "Installing collected packages: SemT-py\n",
      "  Attempting uninstall: SemT-py\n",
      "    Found existing installation: SemT-py 0.1\n",
      "    Uninstalling SemT-py-0.1:\n",
      "      Successfully uninstalled SemT-py-0.1\n",
      "Successfully installed SemT-py-0.1\n",
      "Collecting git+https://github.com/unimib-datAI/Semtui-python.git\n",
      "  Cloning https://github.com/unimib-datAI/Semtui-python.git to /private/var/folders/tj/464jl5ls75l9zfnpxmsx2lrh0000gn/T/pip-req-build-6pxxlk9d\n",
      "  Running command git clone --filter=blob:none --quiet https://github.com/unimib-datAI/Semtui-python.git /private/var/folders/tj/464jl5ls75l9zfnpxmsx2lrh0000gn/T/pip-req-build-6pxxlk9d\n",
      "  Resolved https://github.com/unimib-datAI/Semtui-python.git to commit af04dc35a225d4dc0cb657d4e735bdf5999a769d\n",
      "  Preparing metadata (setup.py) ... \u001b[?25ldone\n",
      "\u001b[?25hRequirement already satisfied: pandas in /Users/abubakarialidu/.pyenv/versions/3.10.12/lib/python3.12/site-packages (from SemT-py==0.1) (2.2.2)\n",
      "Requirement already satisfied: numpy in /Users/abubakarialidu/.pyenv/versions/3.10.12/lib/python3.12/site-packages (from SemT-py==0.1) (1.26.4)\n",
      "Requirement already satisfied: chardet in /Users/abubakarialidu/.pyenv/versions/3.10.12/lib/python3.12/site-packages (from SemT-py==0.1) (5.2.0)\n",
      "Requirement already satisfied: PyJWT in /Users/abubakarialidu/.pyenv/versions/3.10.12/lib/python3.12/site-packages (from SemT-py==0.1) (2.9.0)\n",
      "Requirement already satisfied: fake-useragent in /Users/abubakarialidu/.pyenv/versions/3.10.12/lib/python3.12/site-packages (from SemT-py==0.1) (1.5.1)\n",
      "Requirement already satisfied: requests in /Users/abubakarialidu/.pyenv/versions/3.10.12/lib/python3.12/site-packages (from SemT-py==0.1) (2.32.3)\n",
      "Requirement already satisfied: python-dateutil in /Users/abubakarialidu/.pyenv/versions/3.10.12/lib/python3.12/site-packages (from SemT-py==0.1) (2.9.0.post0)\n",
      "Requirement already satisfied: pytz>=2020.1 in /Users/abubakarialidu/.pyenv/versions/3.10.12/lib/python3.12/site-packages (from pandas->SemT-py==0.1) (2024.1)\n",
      "Requirement already satisfied: tzdata>=2022.7 in /Users/abubakarialidu/.pyenv/versions/3.10.12/lib/python3.12/site-packages (from pandas->SemT-py==0.1) (2024.1)\n",
      "Requirement already satisfied: six>=1.5 in /Users/abubakarialidu/.pyenv/versions/3.10.12/lib/python3.12/site-packages (from python-dateutil->SemT-py==0.1) (1.16.0)\n",
      "Requirement already satisfied: charset-normalizer<4,>=2 in /Users/abubakarialidu/.pyenv/versions/3.10.12/lib/python3.12/site-packages (from requests->SemT-py==0.1) (3.3.2)\n",
      "Requirement already satisfied: idna<4,>=2.5 in /Users/abubakarialidu/.pyenv/versions/3.10.12/lib/python3.12/site-packages (from requests->SemT-py==0.1) (3.7)\n",
      "Requirement already satisfied: urllib3<3,>=1.21.1 in /Users/abubakarialidu/.pyenv/versions/3.10.12/lib/python3.12/site-packages (from requests->SemT-py==0.1) (2.2.2)\n",
      "Requirement already satisfied: certifi>=2017.4.17 in /Users/abubakarialidu/.pyenv/versions/3.10.12/lib/python3.12/site-packages (from requests->SemT-py==0.1) (2024.7.4)\n"
     ]
    }
   ],
   "source": [
    "!pip install --force-reinstall --no-deps --upgrade git+https://github.com/unimib-datAI/Semtui-python.git\n",
    "!pip install --upgrade --no-cache-dir git+https://github.com/unimib-datAI/Semtui-python.git"
   ]
  },
  {
   "cell_type": "code",
   "execution_count": 4,
   "id": "507ab7bf-8cbf-4715-a10c-60ed85906e87",
   "metadata": {},
   "outputs": [],
   "source": [
    "import SemT_py\n",
    "import os\n",
    "import json\n",
    "import numpy as np\n",
    "import pandas as pd\n",
    "import configparser\n",
    "\n",
    "# Import necessary classes and functions from the SemT_py package\n",
    "from SemT_py.token_manager import TokenManager\n",
    "from SemT_py.extension_manager import ExtensionManager\n",
    "from SemT_py.reconciliation_manager import ReconciliationManager\n",
    "from SemT_py.utils import Utility\n",
    "from SemT_py.dataset_manager import DatasetManager\n",
    "from SemT_py.modification_manager import ModificationManager\n",
    "\n",
    "# Set pandas display options\n",
    "\n",
    "pd.set_option('display.max_columns', None)  # Display all columns\n",
    "pd.set_option('display.max_rows', 20)  # Limit to 20 rows for display\n"
   ]
  },
  {
   "cell_type": "code",
   "execution_count": 5,
   "id": "c5498711-af86-4caf-952d-9fc8ce415ed6",
   "metadata": {},
   "outputs": [],
   "source": [
    "\n",
    "# Initialize the parser\n",
    "config = configparser.ConfigParser()\n",
    "\n",
    "# Read the credentials file\n",
    "config.read(\"credentials.txt\")\n",
    "\n",
    "# Access the values\n",
    "base_url = config[\"DEFAULT\"][\"BASE_URL\"]\n",
    "api_url = config[\"DEFAULT\"][\"API_URL\"]\n",
    "username = config[\"DEFAULT\"][\"USERNAME\"]\n",
    "password = config[\"DEFAULT\"][\"PASSWORD\"]\n",
    "\n",
    "# Use the credentials\n",
    "#print(f\"Base URL: {base_url}\")\n",
    "#print(f\"API URL: {api_url}\")\n",
    "#print(f\"Username: {username}\")\n",
    "\n",
    "token_manager = TokenManager(api_url, username, password)\n",
    "# Get the token\n",
    "token = token_manager.get_token()\n",
    "utility = Utility(base_url, token_manager)"
   ]
  },
  {
   "cell_type": "code",
   "execution_count": 6,
   "id": "f645229e-5c2d-4018-8bb3-35704d8de4d0",
   "metadata": {},
   "outputs": [
    {
     "name": "stdout",
     "output_type": "stream",
     "text": [
      "Current working directory: /Users/abubakarialidu/myenv\n",
      "CSV file imported successfully!\n"
     ]
    },
    {
     "data": {
      "text/html": [
       "<div>\n",
       "<style scoped>\n",
       "    .dataframe tbody tr th:only-of-type {\n",
       "        vertical-align: middle;\n",
       "    }\n",
       "\n",
       "    .dataframe tbody tr th {\n",
       "        vertical-align: top;\n",
       "    }\n",
       "\n",
       "    .dataframe thead th {\n",
       "        text-align: right;\n",
       "    }\n",
       "</style>\n",
       "<table border=\"1\" class=\"dataframe\">\n",
       "  <thead>\n",
       "    <tr style=\"text-align: right;\">\n",
       "      <th></th>\n",
       "      <th>Fecha_id</th>\n",
       "      <th>Keyword</th>\n",
       "      <th>Impresiones</th>\n",
       "      <th>Clicks</th>\n",
       "      <th>City</th>\n",
       "      <th>County</th>\n",
       "      <th>Country</th>\n",
       "    </tr>\n",
       "  </thead>\n",
       "  <tbody>\n",
       "    <tr>\n",
       "      <th>0</th>\n",
       "      <td>20230101</td>\n",
       "      <td>alquiler pisos colindres</td>\n",
       "      <td>1</td>\n",
       "      <td>0</td>\n",
       "      <td>Madrid</td>\n",
       "      <td>Community of Madrid</td>\n",
       "      <td>Spain</td>\n",
       "    </tr>\n",
       "    <tr>\n",
       "      <th>1</th>\n",
       "      <td>20230101</td>\n",
       "      <td>alquiler pisos sestao</td>\n",
       "      <td>1</td>\n",
       "      <td>0</td>\n",
       "      <td>Barcelona</td>\n",
       "      <td>Catalonia</td>\n",
       "      <td>Spain</td>\n",
       "    </tr>\n",
       "    <tr>\n",
       "      <th>2</th>\n",
       "      <td>20230101</td>\n",
       "      <td>steelcraft pedal car</td>\n",
       "      <td>1</td>\n",
       "      <td>0</td>\n",
       "      <td>Buffalo</td>\n",
       "      <td>New York</td>\n",
       "      <td>United States</td>\n",
       "    </tr>\n",
       "  </tbody>\n",
       "</table>\n",
       "</div>"
      ],
      "text/plain": [
       "   Fecha_id                   Keyword  Impresiones  Clicks       City  \\\n",
       "0  20230101  alquiler pisos colindres            1       0     Madrid   \n",
       "1  20230101     alquiler pisos sestao            1       0  Barcelona   \n",
       "2  20230101      steelcraft pedal car            1       0    Buffalo   \n",
       "\n",
       "                County        Country  \n",
       "0  Community of Madrid          Spain  \n",
       "1            Catalonia          Spain  \n",
       "2             New York  United States  "
      ]
     },
     "metadata": {},
     "output_type": "display_data"
    }
   ],
   "source": [
    "# Get the current working directory\n",
    "cwd = os.getcwd()\n",
    "print(\"Current working directory:\", cwd)\n",
    "\n",
    "# Path to your CSV file\n",
    "csv_file_path = \"sample_table.csv\"   # Define the path to the CSV file\n",
    "\n",
    "\n",
    "# Read CSV data using DataManager\n",
    "try:\n",
    "    df = pd.read_csv(csv_file_path)  # Read the CSV file into a DataFrame using DataManager\n",
    "    print(\"CSV file imported successfully!\")  # Print success message\n",
    "    display(df.head())  # Display the first few rows of the DataFrame\n",
    "except Exception as e:\n",
    "    print(f\"Error importing CSV file: {e}\")  # Print error message if CSV import fails\n"
   ]
  },
  {
   "cell_type": "code",
   "execution_count": 7,
   "id": "ec212c14-763b-4c27-8ae8-31b347b35ba5",
   "metadata": {},
   "outputs": [
    {
     "name": "stdout",
     "output_type": "stream",
     "text": [
      "Date column successfully converted to ISO 8601 format.\n"
     ]
    }
   ],
   "source": [
    "# Use DataModifier to modify the DataFrame\n",
    "try:\n",
    "    df, message = ModificationManager.iso_date(df, 'Fecha_id')\n",
    "    #print(df)\n",
    "    print(message)\n",
    "except ValueError as ve:\n",
    "    print(f\"Error: {ve}\")"
   ]
  },
  {
   "cell_type": "code",
   "execution_count": 8,
   "id": "c8773879-42ab-48b3-8bbf-f6fd72c74d87",
   "metadata": {},
   "outputs": [
    {
     "data": {
      "text/html": [
       "<div>\n",
       "<style scoped>\n",
       "    .dataframe tbody tr th:only-of-type {\n",
       "        vertical-align: middle;\n",
       "    }\n",
       "\n",
       "    .dataframe tbody tr th {\n",
       "        vertical-align: top;\n",
       "    }\n",
       "\n",
       "    .dataframe thead th {\n",
       "        text-align: right;\n",
       "    }\n",
       "</style>\n",
       "<table border=\"1\" class=\"dataframe\">\n",
       "  <thead>\n",
       "    <tr style=\"text-align: right;\">\n",
       "      <th></th>\n",
       "      <th>Fecha_id</th>\n",
       "      <th>Keyword</th>\n",
       "      <th>Impresiones</th>\n",
       "      <th>Clicks</th>\n",
       "      <th>City</th>\n",
       "      <th>County</th>\n",
       "      <th>Country</th>\n",
       "    </tr>\n",
       "  </thead>\n",
       "  <tbody>\n",
       "    <tr>\n",
       "      <th>0</th>\n",
       "      <td>2023-01-01</td>\n",
       "      <td>alquiler pisos colindres</td>\n",
       "      <td>1</td>\n",
       "      <td>0</td>\n",
       "      <td>Madrid</td>\n",
       "      <td>Community of Madrid</td>\n",
       "      <td>Spain</td>\n",
       "    </tr>\n",
       "    <tr>\n",
       "      <th>1</th>\n",
       "      <td>2023-01-01</td>\n",
       "      <td>alquiler pisos sestao</td>\n",
       "      <td>1</td>\n",
       "      <td>0</td>\n",
       "      <td>Barcelona</td>\n",
       "      <td>Catalonia</td>\n",
       "      <td>Spain</td>\n",
       "    </tr>\n",
       "    <tr>\n",
       "      <th>2</th>\n",
       "      <td>2023-01-01</td>\n",
       "      <td>steelcraft pedal car</td>\n",
       "      <td>1</td>\n",
       "      <td>0</td>\n",
       "      <td>Buffalo</td>\n",
       "      <td>New York</td>\n",
       "      <td>United States</td>\n",
       "    </tr>\n",
       "  </tbody>\n",
       "</table>\n",
       "</div>"
      ],
      "text/plain": [
       "     Fecha_id                   Keyword  Impresiones  Clicks       City  \\\n",
       "0  2023-01-01  alquiler pisos colindres            1       0     Madrid   \n",
       "1  2023-01-01     alquiler pisos sestao            1       0  Barcelona   \n",
       "2  2023-01-01      steelcraft pedal car            1       0    Buffalo   \n",
       "\n",
       "                County        Country  \n",
       "0  Community of Madrid          Spain  \n",
       "1            Catalonia          Spain  \n",
       "2             New York  United States  "
      ]
     },
     "execution_count": 8,
     "metadata": {},
     "output_type": "execute_result"
    }
   ],
   "source": [
    "df"
   ]
  },
  {
   "cell_type": "code",
   "execution_count": 9,
   "id": "cc342493-5086-4eb9-b607-009b0b1811a6",
   "metadata": {},
   "outputs": [
    {
     "name": "stdout",
     "output_type": "stream",
     "text": [
      "  id  userId                 name  nTables          lastModifiedDate\n",
      "0  0       0              Museums        9  2024-05-07T14:30:10.190Z\n",
      "1  1       0               JOT BC       31  2024-10-07T21:41:59.006Z\n",
      "2  2       0                SN BC        8  2023-11-15T09:51:35.102Z\n",
      "3  3       0           InterTwino        9  2023-12-15T13:31:24.769Z\n",
      "4  4       0  Museums_correct-try        7  2024-04-27T18:54:00.810Z\n",
      "5  5       0             Tutorial       16  2024-06-17T17:32:50.388Z\n",
      "6  6       0     Tutorial Museums        4  2024-05-23T11:50:05.536Z\n",
      "7  7       0            All_Cases       33  2024-06-25T15:31:11.216Z\n"
     ]
    }
   ],
   "source": [
    "dataset_manager = DatasetManager(base_url, token_manager)\n",
    "\n",
    "# Get the list of datasets\n",
    "datasets_df = dataset_manager.get_database_list(debug=False)\n",
    "print(datasets_df)\n"
   ]
  },
  {
   "cell_type": "code",
   "execution_count": 10,
   "id": "19593bec-85e6-45f6-9cbf-44e6fb72a985",
   "metadata": {},
   "outputs": [
    {
     "name": "stdout",
     "output_type": "stream",
     "text": [
      "Tables in dataset 7:\n",
      "ID: 90, Name: JOT_Case\n",
      "ID: 100, Name: SpendNetwork-TenderData Alligator\n",
      "ID: 102, Name: JOT_Case\n",
      "ID: 103, Name: JOT_Example\n",
      "ID: 112, Name: JOT data tutorial fixed\n",
      "ID: 114, Name: JOT data tutorial mini\n",
      "ID: 115, Name: JOT small table\n",
      "ID: 147, Name: New_JOT_tiny_OK_reconciled\n",
      "ID: 148, Name: New_JOT_tiny_20240624_UI\n",
      "ID: 149, Name: New_JOT_tiny_reconciled_20240624\n",
      "ID: 150, Name: New_JOT_tiny_fixed reconciled\n",
      "ID: 151, Name: table 1\n",
      "ID: 152, Name: New_JOT_tiny_reconciled_20240628\n",
      "ID: 153, Name: New_JOT_tiny_reconciled_final\n",
      "ID: 154, Name: New_JOT_tiny_reconciled_last\n",
      "ID: 155, Name: New_JOT_tiny_reconciled_OK\n",
      "ID: 163, Name: New_Bucharest3\n",
      "ID: 164, Name: New_Bucharest3\n",
      "ID: 165, Name: JOT_BC_test\n",
      "ID: 166, Name: JOT_BC_test_AB\n",
      "ID: 167, Name: JOT_BC_test_AB\n",
      "ID: 168, Name: JOT_BC_test_AB_2\n",
      "ID: 169, Name: JOT_BC_test_AB_2\n",
      "ID: 170, Name: JOT_tiny_001\n",
      "ID: 205, Name: JOT_tiny_002\n",
      "ID: 206, Name: JOT_tiny_003\n",
      "ID: 207, Name: New_Mantis_test\n",
      "ID: 232, Name: New_Mantis_test2\n",
      "ID: 233, Name: Mantis_test_3\n",
      "ID: 234, Name: test_table_Nov21\n",
      "ID: 235, Name: Gate_Test_Table\n",
      "ID: 236, Name: Gate_Resturant_Data\n",
      "ID: 237, Name: Gate_Mantis_test\n"
     ]
    }
   ],
   "source": [
    "# Add the table to the dataset\n",
    "dataset_id = \"7\"  # Replace with the actual dataset ID\n",
    "try:\n",
    "    dataset_manager.list_tables_in_dataset(dataset_id) # Attempt to list the tables in the dataset\n",
    "except Exception as e:\n",
    "    print(f\"Error listing tables in dataset: {e}\")"
   ]
  },
  {
   "cell_type": "code",
   "execution_count": 11,
   "id": "153b7616-8fc3-4482-bd35-ae59309b52c7",
   "metadata": {},
   "outputs": [],
   "source": [
    "# Add the table to the dataset\n",
    "dataset_id = \"7\" # Replace with the actual dataset ID\n",
    "table_name = \"Gate_Test_Table_2\"  # Define the name of the new table to add"
   ]
  },
  {
   "cell_type": "code",
   "execution_count": 12,
   "id": "c1c28150-de67-4f05-965e-d75395cf39a9",
   "metadata": {},
   "outputs": [
    {
     "name": "stdout",
     "output_type": "stream",
     "text": [
      "Table added successfully! New table added: ID: 239, Name: Gate_Test_Table_2\n",
      "Table 'Gate_Test_Table_2' added successfully with ID: 239\n"
     ]
    }
   ],
   "source": [
    "try:\n",
    "    # Attempt to add the DataFrame (df) as a table to the specified dataset\n",
    "    message, response_data = dataset_manager.add_table_to_dataset(dataset_id, df, table_name)\n",
    "    \n",
    "    # Print the success or failure message\n",
    "    print(message)\n",
    "    \n",
    "    # Extract the table ID if the addition was successful\n",
    "    if response_data:\n",
    "        table_id = dataset_manager.extract_table_id(response_data)\n",
    "        if table_id:\n",
    "            print(f\"Table '{table_name}' added successfully with ID: {table_id}\")\n",
    "        else:\n",
    "            print(\"Table ID could not be extracted from the response.\")\n",
    "    else:\n",
    "        print(\"No response data available. Table addition might have failed.\")\n",
    "\n",
    "except Exception as e:\n",
    "    print(f\"Error adding table to dataset: {e}\")  # Print the error message if an exception occurs"
   ]
  },
  {
   "cell_type": "code",
   "execution_count": 13,
   "id": "381cbfb7-25f7-485f-8483-a3d155107e59",
   "metadata": {},
   "outputs": [
    {
     "name": "stdout",
     "output_type": "stream",
     "text": [
      "Table with id '239' retrieved successfully!\n"
     ]
    }
   ],
   "source": [
    "try:\n",
    "    table_data = dataset_manager.get_table_by_id(dataset_id, table_id)  # Attempt to retrieve the specified table from the dataset\n",
    "    if table_data:\n",
    "        print(f\"Table with id '{table_id}' retrieved successfully!\")  # Print success message if table is retrieved\n",
    "        # No need to display the DataFrame\n",
    "    else:\n",
    "        print(f\"Table with id '{table_id}' not found in the dataset.\")  # Print message if table is not found\n",
    "except Exception as e:\n",
    "    print(f\"Error retrieving table '{table_id}': {e}\")  # Print error message if retrieving the table fails"
   ]
  },
  {
   "cell_type": "code",
   "execution_count": 14,
   "id": "cd467a50-3813-48e2-a71f-e7194f688db9",
   "metadata": {},
   "outputs": [
    {
     "data": {
      "text/plain": [
       "{'table': {'id': '239',\n",
       "  'idDataset': '7',\n",
       "  'name': 'Gate_Test_Table_2',\n",
       "  'nCols': 7,\n",
       "  'nRows': 3,\n",
       "  'nCells': 21,\n",
       "  'nCellsReconciliated': 0,\n",
       "  'lastModifiedDate': '2024-11-26T14:43:45.629Z'},\n",
       " 'columns': {'Fecha_id': {'id': 'Fecha_id',\n",
       "   'label': 'Fecha_id',\n",
       "   'status': 'empty',\n",
       "   'context': {},\n",
       "   'metadata': []},\n",
       "  'Keyword': {'id': 'Keyword',\n",
       "   'label': 'Keyword',\n",
       "   'status': 'empty',\n",
       "   'context': {},\n",
       "   'metadata': []},\n",
       "  'Impresiones': {'id': 'Impresiones',\n",
       "   'label': 'Impresiones',\n",
       "   'status': 'empty',\n",
       "   'context': {},\n",
       "   'metadata': []},\n",
       "  'Clicks': {'id': 'Clicks',\n",
       "   'label': 'Clicks',\n",
       "   'status': 'empty',\n",
       "   'context': {},\n",
       "   'metadata': []},\n",
       "  'City': {'id': 'City',\n",
       "   'label': 'City',\n",
       "   'status': 'empty',\n",
       "   'context': {},\n",
       "   'metadata': []},\n",
       "  'County': {'id': 'County',\n",
       "   'label': 'County',\n",
       "   'status': 'empty',\n",
       "   'context': {},\n",
       "   'metadata': []},\n",
       "  'Country': {'id': 'Country',\n",
       "   'label': 'Country',\n",
       "   'status': 'empty',\n",
       "   'context': {},\n",
       "   'metadata': []}},\n",
       " 'rows': {'r0': {'id': 'r0',\n",
       "   'cells': {'Fecha_id': {'id': 'r0$Fecha_id',\n",
       "     'label': '2023-01-01',\n",
       "     'metadata': []},\n",
       "    'Keyword': {'id': 'r0$Keyword',\n",
       "     'label': 'alquiler pisos colindres',\n",
       "     'metadata': []},\n",
       "    'Impresiones': {'id': 'r0$Impresiones', 'label': '1', 'metadata': []},\n",
       "    'Clicks': {'id': 'r0$Clicks', 'label': '0', 'metadata': []},\n",
       "    'City': {'id': 'r0$City', 'label': 'Madrid', 'metadata': []},\n",
       "    'County': {'id': 'r0$County',\n",
       "     'label': 'Community of Madrid',\n",
       "     'metadata': []},\n",
       "    'Country': {'id': 'r0$Country', 'label': 'Spain', 'metadata': []}}},\n",
       "  'r1': {'id': 'r1',\n",
       "   'cells': {'Fecha_id': {'id': 'r1$Fecha_id',\n",
       "     'label': '2023-01-01',\n",
       "     'metadata': []},\n",
       "    'Keyword': {'id': 'r1$Keyword',\n",
       "     'label': 'alquiler pisos sestao',\n",
       "     'metadata': []},\n",
       "    'Impresiones': {'id': 'r1$Impresiones', 'label': '1', 'metadata': []},\n",
       "    'Clicks': {'id': 'r1$Clicks', 'label': '0', 'metadata': []},\n",
       "    'City': {'id': 'r1$City', 'label': 'Barcelona', 'metadata': []},\n",
       "    'County': {'id': 'r1$County', 'label': 'Catalonia', 'metadata': []},\n",
       "    'Country': {'id': 'r1$Country', 'label': 'Spain', 'metadata': []}}},\n",
       "  'r2': {'id': 'r2',\n",
       "   'cells': {'Fecha_id': {'id': 'r2$Fecha_id',\n",
       "     'label': '2023-01-01',\n",
       "     'metadata': []},\n",
       "    'Keyword': {'id': 'r2$Keyword',\n",
       "     'label': 'steelcraft pedal car',\n",
       "     'metadata': []},\n",
       "    'Impresiones': {'id': 'r2$Impresiones', 'label': '1', 'metadata': []},\n",
       "    'Clicks': {'id': 'r2$Clicks', 'label': '0', 'metadata': []},\n",
       "    'City': {'id': 'r2$City', 'label': 'Buffalo', 'metadata': []},\n",
       "    'County': {'id': 'r2$County', 'label': 'New York', 'metadata': []},\n",
       "    'Country': {'id': 'r2$Country',\n",
       "     'label': 'United States',\n",
       "     'metadata': []}}}},\n",
       " 'id': '239'}"
      ]
     },
     "execution_count": 14,
     "metadata": {},
     "output_type": "execute_result"
    }
   ],
   "source": [
    "table_data"
   ]
  },
  {
   "cell_type": "markdown",
   "id": "45fa8204-da5c-4a85-ab3c-ec5ff63cb640",
   "metadata": {},
   "source": [
    "## Reconcilition"
   ]
  },
  {
   "cell_type": "code",
   "execution_count": 15,
   "id": "5c060308-5dca-4013-8235-f567f7ee55a0",
   "metadata": {},
   "outputs": [
    {
     "data": {
      "text/html": [
       "<div>\n",
       "<style scoped>\n",
       "    .dataframe tbody tr th:only-of-type {\n",
       "        vertical-align: middle;\n",
       "    }\n",
       "\n",
       "    .dataframe tbody tr th {\n",
       "        vertical-align: top;\n",
       "    }\n",
       "\n",
       "    .dataframe thead th {\n",
       "        text-align: right;\n",
       "    }\n",
       "</style>\n",
       "<table border=\"1\" class=\"dataframe\">\n",
       "  <thead>\n",
       "    <tr style=\"text-align: right;\">\n",
       "      <th></th>\n",
       "      <th>id</th>\n",
       "      <th>relativeUrl</th>\n",
       "      <th>name</th>\n",
       "    </tr>\n",
       "  </thead>\n",
       "  <tbody>\n",
       "    <tr>\n",
       "      <th>0</th>\n",
       "      <td>geocodingGeonames</td>\n",
       "      <td>/dataset</td>\n",
       "      <td>Geocoding: geo coordinates (GeoNames)</td>\n",
       "    </tr>\n",
       "    <tr>\n",
       "      <th>1</th>\n",
       "      <td>geocodingHere</td>\n",
       "      <td>/here</td>\n",
       "      <td>Geocoding: geo coordinates (HERE)</td>\n",
       "    </tr>\n",
       "    <tr>\n",
       "      <th>2</th>\n",
       "      <td>geonames</td>\n",
       "      <td>/dataset</td>\n",
       "      <td>Linking: GeoNames (GeoNames)</td>\n",
       "    </tr>\n",
       "    <tr>\n",
       "      <th>3</th>\n",
       "      <td>wikidataAlligator</td>\n",
       "      <td>/dataset</td>\n",
       "      <td>Linking: Wikidata (Alligator)</td>\n",
       "    </tr>\n",
       "    <tr>\n",
       "      <th>4</th>\n",
       "      <td>wikidataOpenRefine</td>\n",
       "      <td>/wikidata</td>\n",
       "      <td>Linking: Wikidata (OpenRefine)</td>\n",
       "    </tr>\n",
       "  </tbody>\n",
       "</table>\n",
       "</div>"
      ],
      "text/plain": [
       "                   id relativeUrl                                   name\n",
       "0   geocodingGeonames    /dataset  Geocoding: geo coordinates (GeoNames)\n",
       "1       geocodingHere       /here      Geocoding: geo coordinates (HERE)\n",
       "2            geonames    /dataset           Linking: GeoNames (GeoNames)\n",
       "3   wikidataAlligator    /dataset          Linking: Wikidata (Alligator)\n",
       "4  wikidataOpenRefine   /wikidata         Linking: Wikidata (OpenRefine)"
      ]
     },
     "metadata": {},
     "output_type": "display_data"
    }
   ],
   "source": [
    "# Test get_reconciliators_list\n",
    "reconciliation_manager = ReconciliationManager(base_url, token_manager)\n",
    "reconciliators_list = reconciliation_manager.get_reconciliators_list(debug=False)\n",
    "\n",
    "if not reconciliators_list.empty:\n",
    "    display(reconciliators_list.head())\n",
    "else:\n",
    "    print(\"No reconciliators data available.\")"
   ]
  },
  {
   "cell_type": "code",
   "execution_count": 16,
   "id": "e8465554-f8a0-4de7-9e1d-046ad0c492b5",
   "metadata": {},
   "outputs": [
    {
     "name": "stdout",
     "output_type": "stream",
     "text": [
      "\n",
      "Parameters for reconciliator 'geocodingHere':\n",
      "\n",
      "Mandatory parameters:\n",
      "- table (json): Mandatory\n",
      "  Description: The table data in JSON format\n",
      "- columnName (string): Mandatory\n",
      "  Description: The name of the column to reconcile\n",
      "- idReconciliator (string): Mandatory\n",
      "  Description: The ID of the reconciliator to use\n",
      "\n",
      "Optional parameters:\n",
      "- secondPart (selectColumns): Optional\n",
      "  Description: Optional column to add information to support reconciliation.\n",
      "  Label: Select a column with information about the location to reconcile\n",
      "  Info Text: \n",
      "- thirdPart (selectColumns): Optional\n",
      "  Description: Optional column to add information to support reconciliation.\n",
      "  Label: Select a column with information about the location to reconcile\n",
      "  Info Text: \n",
      "- fourthPart (selectColumns): Optional\n",
      "  Description: Optional column to add information to support reconciliation.\n",
      "  Label: Select a column with information about the location to reconcile\n",
      "  Info Text: \n",
      "Parameters for reconciliator 'geocodingHere' retrieved successfully!\n"
     ]
    }
   ],
   "source": [
    "# Test get_reconciler_parameters\n",
    "reconciliator_id = \"geocodingHere\"  # Replace with the actual reconciliator ID\n",
    "\n",
    "# Get the reconciliator parameters\n",
    "try:\n",
    "    params = reconciliation_manager.get_reconciliator_parameters(id_reconciliator=reconciliator_id, debug=False)  # Attempt to retrieve parameters\n",
    "    if params:\n",
    "        print(f\"Parameters for reconciliator '{reconciliator_id}' retrieved successfully!\")  # Print success message\n",
    "    else:\n",
    "        print(f\"Failed to retrieve parameters for reconciliator '{reconciliator_id}'.\")  # Print failure message if retrieval fails\n",
    "except Exception as e:\n",
    "    print(f\"Error retrieving parameters for reconciliator '{reconciliator_id}': {e}\")  # Print error message if retrieving parameters fails"
   ]
  },
  {
   "cell_type": "code",
   "execution_count": 16,
   "id": "c7a28b89-d6b2-4792-a885-970028a4b522",
   "metadata": {},
   "outputs": [
    {
     "name": "stdout",
     "output_type": "stream",
     "text": [
      "Column reconciled successfully and backend payload created!\n"
     ]
    }
   ],
   "source": [
    "column_name = \"City\"\n",
    "reconciliator_id = \"geocodingHere\"\n",
    "optional_columns = ['County', 'Country']\n",
    "\n",
    "try:\n",
    "    reconciled_table, backend_payload = reconciliation_manager.reconcile(\n",
    "        table_data,\n",
    "        column_name,\n",
    "        reconciliator_id,\n",
    "        optional_columns\n",
    "    )\n",
    "    if reconciled_table and backend_payload:\n",
    "        print(\"Column reconciled successfully and backend payload created!\")\n",
    "        #print(\"Final Payload:\")\n",
    "        #print(json.dumps(reconciled_table, indent=2))\n",
    "        #print(\"Backend Payload:\")\n",
    "        #print(json.dumps(backend_payload, indent=2))\n",
    "    else:\n",
    "        print(\"Failed to reconcile column or create backend payload.\")\n",
    "except Exception as e:\n",
    "    print(f\"Error during reconciliation process: {e}\")"
   ]
  },
  {
   "cell_type": "code",
   "execution_count": 17,
   "id": "f59ef30d-0f0a-4339-95a5-f6d476a7d706",
   "metadata": {},
   "outputs": [],
   "source": [
    "utility = Utility(base_url, token_manager=token_manager)"
   ]
  },
  {
   "cell_type": "code",
   "execution_count": 18,
   "id": "d8dbbed5-285d-44ba-8216-a6fe7da0542b",
   "metadata": {},
   "outputs": [
    {
     "data": {
      "text/html": [
       "\n",
       "        <style>\n",
       "            table {\n",
       "                width: 100%;\n",
       "                border-collapse: collapse;\n",
       "            }\n",
       "            th, td {\n",
       "                padding: 8px;\n",
       "                text-align: left;\n",
       "                vertical-align: top;\n",
       "            }\n",
       "            td {\n",
       "                max-width: 300px;\n",
       "                word-wrap: break-word;\n",
       "                white-space: pre-wrap;\n",
       "            }\n",
       "        </style>\n",
       "        <table border=\"1\" class=\"dataframe\">\n",
       "  <thead>\n",
       "    <tr style=\"text-align: right;\">\n",
       "      <th>City</th>\n",
       "      <th>City_metadata</th>\n",
       "    </tr>\n",
       "  </thead>\n",
       "  <tbody>\n",
       "    <tr>\n",
       "      <td>Madrid</td>\n",
       "      <td><strong>ID:</strong> georss:40.41955,-3.69196<br><strong>Name:</strong> Madrid, Community of Madrid, Spain<br><strong>URI:</strong> <a href='https://www.google.com/maps/place/40.41955,-3.69196'>https://www.google.com/maps/place/40.41955,-3.69196</a><br><strong>Score:</strong> 1<br><strong>Match:</strong> True<br><strong>Types:</strong> GlobeCoordinate, point</td>\n",
       "    </tr>\n",
       "    <tr>\n",
       "      <td>Barcelona</td>\n",
       "      <td><strong>ID:</strong> georss:41.38804,2.17001<br><strong>Name:</strong> Barcelona, Catalonia, Spain<br><strong>URI:</strong> <a href='https://www.google.com/maps/place/41.38804,2.17001'>https://www.google.com/maps/place/41.38804,2.17001</a><br><strong>Score:</strong> 1<br><strong>Match:</strong> True<br><strong>Types:</strong> GlobeCoordinate, point</td>\n",
       "    </tr>\n",
       "  </tbody>\n",
       "</table>\n",
       "        "
      ],
      "text/plain": [
       "<IPython.core.display.HTML object>"
      ]
     },
     "execution_count": 18,
     "metadata": {},
     "output_type": "execute_result"
    }
   ],
   "source": [
    "utility.display_json_table(reconciled_table, number_of_rows=2, labels=['City'])"
   ]
  },
  {
   "cell_type": "code",
   "execution_count": 20,
   "id": "e0d982ad-9f53-412b-bca2-c258f3908563",
   "metadata": {},
   "outputs": [],
   "source": [
    "#print(\"Final Payload:\")\n",
    "#print(json.dumps(reconciled_table, indent=2))"
   ]
  },
  {
   "cell_type": "code",
   "execution_count": 21,
   "id": "ad1dfb95-99ae-4444-9c3c-7a88afb8d584",
   "metadata": {},
   "outputs": [],
   "source": [
    "#print(\"Backend Payload:\")\n",
    "#print(json.dumps(backend_payload, indent=2))"
   ]
  },
  {
   "cell_type": "code",
   "execution_count": 19,
   "id": "b353081b-ab3d-4088-8bd4-bd34d5d389d9",
   "metadata": {},
   "outputs": [
    {
     "name": "stdout",
     "output_type": "stream",
     "text": [
      "Updated Table successfully pushed to backend for table 239 in dataset 7\n"
     ]
    }
   ],
   "source": [
    "# Push to backend\n",
    "\n",
    "payload=backend_payload\n",
    "\n",
    "successMessage, sentPayload = utility.push_to_backend(\n",
    "    dataset_id,\n",
    "    table_id,\n",
    "    payload,\n",
    "    debug=False\n",
    ")\n",
    "\n",
    "print(successMessage)"
   ]
  },
  {
   "cell_type": "code",
   "execution_count": 23,
   "id": "06c623eb-cbbb-4f35-a46e-cde98c078c43",
   "metadata": {},
   "outputs": [],
   "source": [
    "#sentPayload"
   ]
  },
  {
   "cell_type": "markdown",
   "id": "dedd1bf4-b3f3-4c8a-96a0-49a68f672e97",
   "metadata": {},
   "source": [
    "## Open Meteo Extension"
   ]
  },
  {
   "cell_type": "code",
   "execution_count": 24,
   "id": "a366e63c-4f41-4ffc-8a7d-fb89bf8831aa",
   "metadata": {},
   "outputs": [
    {
     "name": "stdout",
     "output_type": "stream",
     "text": [
      "Extenders retrieved successfully!\n"
     ]
    },
    {
     "data": {
      "text/html": [
       "<div>\n",
       "<style scoped>\n",
       "    .dataframe tbody tr th:only-of-type {\n",
       "        vertical-align: middle;\n",
       "    }\n",
       "\n",
       "    .dataframe tbody tr th {\n",
       "        vertical-align: top;\n",
       "    }\n",
       "\n",
       "    .dataframe thead th {\n",
       "        text-align: right;\n",
       "    }\n",
       "</style>\n",
       "<table border=\"1\" class=\"dataframe\">\n",
       "  <thead>\n",
       "    <tr style=\"text-align: right;\">\n",
       "      <th></th>\n",
       "      <th>id</th>\n",
       "      <th>relativeUrl</th>\n",
       "      <th>name</th>\n",
       "    </tr>\n",
       "  </thead>\n",
       "  <tbody>\n",
       "    <tr>\n",
       "      <th>0</th>\n",
       "      <td>geoPropertiesWikidata</td>\n",
       "      <td>/wikidata/entities</td>\n",
       "      <td>Geo Properties (Wikidata)</td>\n",
       "    </tr>\n",
       "    <tr>\n",
       "      <th>1</th>\n",
       "      <td>geoRouteHere</td>\n",
       "      <td></td>\n",
       "      <td>Geo Route (HERE)</td>\n",
       "    </tr>\n",
       "    <tr>\n",
       "      <th>2</th>\n",
       "      <td>meteoPropertiesOpenMeteo</td>\n",
       "      <td></td>\n",
       "      <td>Meteo Properties (OpenMeteo)</td>\n",
       "    </tr>\n",
       "    <tr>\n",
       "      <th>3</th>\n",
       "      <td>reconciledColumnExt</td>\n",
       "      <td></td>\n",
       "      <td>Annotation properties</td>\n",
       "    </tr>\n",
       "    <tr>\n",
       "      <th>4</th>\n",
       "      <td>reconciledColumnExtWikidata</td>\n",
       "      <td>/entity/labels</td>\n",
       "      <td>Annotation properties (Wikidata)</td>\n",
       "    </tr>\n",
       "  </tbody>\n",
       "</table>\n",
       "</div>"
      ],
      "text/plain": [
       "                            id         relativeUrl  \\\n",
       "0        geoPropertiesWikidata  /wikidata/entities   \n",
       "1                 geoRouteHere                       \n",
       "2     meteoPropertiesOpenMeteo                       \n",
       "3          reconciledColumnExt                       \n",
       "4  reconciledColumnExtWikidata      /entity/labels   \n",
       "\n",
       "                               name  \n",
       "0         Geo Properties (Wikidata)  \n",
       "1                  Geo Route (HERE)  \n",
       "2      Meteo Properties (OpenMeteo)  \n",
       "3             Annotation properties  \n",
       "4  Annotation properties (Wikidata)  "
      ]
     },
     "metadata": {},
     "output_type": "display_data"
    }
   ],
   "source": [
    "# Get Extender List\n",
    "# Initialize ExtensionManager\n",
    "\n",
    "extension_manager = ExtensionManager(base_url, token)  # Create an instance of ExtensionManager with API URL and token\n",
    "\n",
    "try:\n",
    "    extenders_list = extension_manager.get_extenders_list(debug=False)  # Attempt to retrieve the list of extenders\n",
    "    if extenders_list is not None:\n",
    "        print(\"Extenders retrieved successfully!\")  # Print success message\n",
    "        display(extenders_list.head())  # Display the first few rows of the DataFrame\n",
    "    else:\n",
    "        print(\"Failed to retrieve extenders.\")  # Print failure message if no extenders are retrieved\n",
    "except Exception as e:\n",
    "    print(f\"Error retrieving extenders: {e}\")  # Print error message if retrieving extenders fails"
   ]
  },
  {
   "cell_type": "code",
   "execution_count": 20,
   "id": "ef1c5752-b0da-4fd4-8060-d72bf1a08263",
   "metadata": {},
   "outputs": [
    {
     "name": "stdout",
     "output_type": "stream",
     "text": [
      "Column extended successfully!\n"
     ]
    }
   ],
   "source": [
    "extension_manager = ExtensionManager(base_url, token)\n",
    "\n",
    "# Call for meteoPropertiesOpenMeteo\n",
    "meteo_extended_table, meteo_extension_payload = extension_manager.extend_column(\n",
    "    table=reconciled_table,\n",
    "    column_name='City',\n",
    "    extender_id=\"meteoPropertiesOpenMeteo\",\n",
    "    properties=['apparent_temperature_max', 'apparent_temperature_min', 'precipitation_sum', 'precipitation_hours'],\n",
    "    other_params={\n",
    "        'date_column_name': \"Fecha_id\",\n",
    "        'decimal_format': \"comma\"\n",
    "    })"
   ]
  },
  {
   "cell_type": "markdown",
   "id": "1d0e5928-6a05-4fc2-bdc7-7229dde380ad",
   "metadata": {},
   "source": [
    "## Column Extension"
   ]
  },
  {
   "cell_type": "code",
   "execution_count": 21,
   "id": "58dbf157-d020-4d69-ab32-8ac55ccddac3",
   "metadata": {},
   "outputs": [
    {
     "name": "stdout",
     "output_type": "stream",
     "text": [
      "Column extended successfully!\n"
     ]
    }
   ],
   "source": [
    "# Call for reconciledColumnExt\n",
    "reconciled_extended_table, reconciled_backend_payload = extension_manager.extend_column(\n",
    "    table=meteo_extended_table,\n",
    "    column_name='City',\n",
    "    extender_id='reconciledColumnExt',\n",
    "    properties=['id', 'name'],\n",
    "    other_params={}  # Empty dictionary for reconciledColumnExt\n",
    ")"
   ]
  },
  {
   "cell_type": "code",
   "execution_count": 22,
   "id": "64950cf3-ace7-4aa0-899c-7a3175a82bb3",
   "metadata": {},
   "outputs": [
    {
     "name": "stdout",
     "output_type": "stream",
     "text": [
      "Updated Table successfully pushed to backend for table 239 in dataset 7\n"
     ]
    }
   ],
   "source": [
    "payload=reconciled_backend_payload\n",
    "\n",
    "successMessage, sentPayload = utility.push_to_backend(\n",
    "    dataset_id,\n",
    "    table_id,\n",
    "    payload,\n",
    "    debug=False\n",
    ")\n",
    "\n",
    "print(successMessage)"
   ]
  },
  {
   "cell_type": "markdown",
   "id": "e4268b69-0547-4031-bc86-2113630e6d83",
   "metadata": {},
   "source": [
    "## Download"
   ]
  },
  {
   "cell_type": "code",
   "execution_count": 23,
   "id": "d0998a82-1381-4c46-8109-07a7a6107c60",
   "metadata": {},
   "outputs": [
    {
     "name": "stdout",
     "output_type": "stream",
     "text": [
      "W3C JSON file has been downloaded successfully and saved as Gate_Tutorial.json\n"
     ]
    }
   ],
   "source": [
    "downloaded_file = utility.download_json(dataset_id, table_id, output_file=\"Gate_Tutorial.json\")"
   ]
  },
  {
   "cell_type": "code",
   "execution_count": 24,
   "id": "037ddd1e-009e-418d-89c5-f35c3375f940",
   "metadata": {},
   "outputs": [
    {
     "name": "stdout",
     "output_type": "stream",
     "text": [
      "CSV file has been downloaded successfully and saved as Gate_Tutorial.csv\n"
     ]
    }
   ],
   "source": [
    "downloaded_file = utility.download_csv(dataset_id, table_id, output_file=\"Gate_Tutorial.csv\")"
   ]
  },
  {
   "cell_type": "code",
   "execution_count": null,
   "id": "c708ebf2-89cd-4a96-b4ca-41c841b0e28b",
   "metadata": {},
   "outputs": [],
   "source": []
  }
 ],
 "metadata": {
  "kernelspec": {
   "display_name": "Python (myenv)",
   "language": "python",
   "name": "myenv"
  },
  "language_info": {
   "codemirror_mode": {
    "name": "ipython",
    "version": 3
   },
   "file_extension": ".py",
   "mimetype": "text/x-python",
   "name": "python",
   "nbconvert_exporter": "python",
   "pygments_lexer": "ipython3",
   "version": "3.10.12"
  }
 },
 "nbformat": 4,
 "nbformat_minor": 5
}
